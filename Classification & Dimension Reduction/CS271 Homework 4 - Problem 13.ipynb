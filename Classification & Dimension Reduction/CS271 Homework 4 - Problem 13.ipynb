{
 "cells": [
  {
   "cell_type": "code",
   "execution_count": 61,
   "metadata": {},
   "outputs": [],
   "source": [
    "# Libraries\n",
    "import numpy as np\n",
    "import matplotlib.pyplot as plt\n",
    "import pandas as pd\n",
    "import statsmodels.api as sm\n",
    "from math import sqrt\n",
    "from scipy import stats\n",
    "from sklearn.decomposition import PCA\n",
    "import scipy.linalg as la\n",
    "from scipy.spatial import distance"
   ]
  },
  {
   "cell_type": "code",
   "execution_count": 62,
   "metadata": {},
   "outputs": [
    {
     "data": {
      "text/plain": [
       "array([[ 1, -2,  1,  2],\n",
       "       [-1,  2,  3,  3],\n",
       "       [ 1,  2,  0,  1],\n",
       "       [-1, -1,  1,  1],\n",
       "       [-1, -2,  3, -2],\n",
       "       [ 1,  2,  1,  0]])"
      ]
     },
     "execution_count": 62,
     "metadata": {},
     "output_type": "execute_result"
    }
   ],
   "source": [
    "M = np.array([[1, -2, 1, 2], [-1, 2, 3, 3], [1, 2, 0, 1], [-1, -1, 1, 1], [-1, -2, 3, -2], [1, 2, 1, 0]])\n",
    "M"
   ]
  },
  {
   "cell_type": "code",
   "execution_count": 63,
   "metadata": {},
   "outputs": [],
   "source": [
    "# compute the row means\n",
    "row_means = np.mean(M, axis=1)"
   ]
  },
  {
   "cell_type": "code",
   "execution_count": 64,
   "metadata": {},
   "outputs": [],
   "source": [
    "# subtract the row means\n",
    "M = M.astype(np.float)\n",
    "for i in range(M.shape[1]): \n",
    "    M[:,i] -= row_means  "
   ]
  },
  {
   "cell_type": "code",
   "execution_count": 95,
   "metadata": {},
   "outputs": [],
   "source": [
    "# compute the C matrix\n",
    "A = M\n",
    "A_transpose = np.transpose(A)\n",
    "C = (np.matmul(A, A_transpose))"
   ]
  },
  {
   "cell_type": "code",
   "execution_count": 96,
   "metadata": {},
   "outputs": [
    {
     "name": "stdout",
     "output_type": "stream",
     "text": [
      "[[-0.34090297  0.5407334   0.55198553  0.10381803  0.08650431  0.5181152 ]\n",
      " [-0.37056232  0.3304082  -0.786594   -0.01593028  0.30655904  0.2013744 ]\n",
      " [ 0.26854707  0.01875492 -0.16367471  0.91315957 -0.18608734  0.17958956]\n",
      " [-0.34848415  0.30395455 -0.1051995  -0.03519041 -0.83099302 -0.28864465]\n",
      " [-0.73328532 -0.61575309  0.10271332  0.26181537  0.06241564 -0.01215468]\n",
      " [ 0.12329898 -0.3557328  -0.16785553 -0.29209927 -0.41166122  0.75847816]]\n"
     ]
    }
   ],
   "source": [
    "# compute the eigenvalues/eigenvectors (use svd)\n",
    "D,U,V = la.svd(C, full_matrices=True, compute_uv=True)\n",
    "print(D)"
   ]
  },
  {
   "cell_type": "code",
   "execution_count": 97,
   "metadata": {},
   "outputs": [],
   "source": [
    "# principal components\n",
    "u1 = (np.array([[-0.341, -0.371,  0.269, -0.348, -0.733,\n",
    "          0.123]]))\n",
    "u2 = (np.array([[ 0.541 ,  0.330 ,  0.019,  0.304, -0.616,\n",
    "         -0.356]]))\n",
    "u3 = np.array([[0.552,-0.787, -0.164,-0.105, 0.103, -0.168  ]])"
   ]
  },
  {
   "cell_type": "code",
   "execution_count": 98,
   "metadata": {},
   "outputs": [],
   "source": [
    "X1 = A[:,0]\n",
    "X1 = X1.reshape((6, 1))\n",
    "X2 = A[:, 1]\n",
    "X2 = X2.reshape((6, 1))\n",
    "X3 = A[:,2]\n",
    "X3 = X3.reshape((6, 1))\n",
    "X4 = A[:, 3]\n",
    "X4 = X4.reshape((6, 1))"
   ]
  },
  {
   "cell_type": "code",
   "execution_count": 100,
   "metadata": {},
   "outputs": [
    {
     "name": "stdout",
     "output_type": "stream",
     "text": [
      "[[1.56425]]\n",
      "[[-0.633]]\n",
      "[[2.49375]]\n",
      "[[2.59925]]\n",
      "[[-0.987]]\n",
      "[[-3.81675]]\n",
      "[[-1.188]]\n",
      "[[-0.34675]]\n",
      "[[2.808]]\n"
     ]
    }
   ],
   "source": [
    "print(np.dot(u1, X1))\n",
    "print(np.dot(u2, X1))\n",
    "print(np.dot(u3, X1))\n",
    "\n",
    "print(np.dot(u1, X2))\n",
    "print(np.dot(u2, X2))\n",
    "\n",
    "print(np.dot(u1, X3))\n",
    "print(np.dot(u2, X3))\n",
    "\n",
    "print(np.dot(u1, X4))\n",
    "print(np.dot(u2, X4))"
   ]
  },
  {
   "cell_type": "code",
   "execution_count": 101,
   "metadata": {},
   "outputs": [],
   "source": [
    "score_matrix = np.array([[1.56372171,\n",
    "-0.63433385,\n",
    "2.59987503,\n",
    "-0.98653425,\n",
    "-3.81718422,\n",
    "-1.18655924,\n",
    "-0.3464125,\n",
    "2.80742733]])\n",
    "score_matrix = score_matrix.reshape(2,4)"
   ]
  },
  {
   "cell_type": "code",
   "execution_count": 102,
   "metadata": {},
   "outputs": [
    {
     "data": {
      "text/plain": [
       "array([[ 1.56372171, -0.63433385,  2.59987503, -0.98653425],\n",
       "       [-3.81718422, -1.18655924, -0.3464125 ,  2.80742733]])"
      ]
     },
     "execution_count": 102,
     "metadata": {},
     "output_type": "execute_result"
    }
   ],
   "source": [
    "score_matrix"
   ]
  },
  {
   "cell_type": "code",
   "execution_count": 103,
   "metadata": {},
   "outputs": [],
   "source": [
    "# part B\n",
    "B = np.array([-1, -2, -1, 0, 2, 1, 3, 2, 1, 2, 0, 3, 2, 3, 1, 1, -1, 2, 3, 1, 0, 1, -1, -2])\n",
    "B = B.reshape(6,4)"
   ]
  },
  {
   "cell_type": "code",
   "execution_count": 104,
   "metadata": {},
   "outputs": [
    {
     "data": {
      "text/plain": [
       "array([[-1, -2, -1,  0],\n",
       "       [ 2,  1,  3,  2],\n",
       "       [ 1,  2,  0,  3],\n",
       "       [ 2,  3,  1,  1],\n",
       "       [-1,  2,  3,  1],\n",
       "       [ 0,  1, -1, -2]])"
      ]
     },
     "execution_count": 104,
     "metadata": {},
     "output_type": "execute_result"
    }
   ],
   "source": [
    "B"
   ]
  },
  {
   "cell_type": "code",
   "execution_count": 105,
   "metadata": {},
   "outputs": [],
   "source": [
    "# subtract the row means\n",
    "B = B.astype(np.float)\n",
    "for i in range(B.shape[1]): \n",
    "    B[:,i] -= row_means  "
   ]
  },
  {
   "cell_type": "code",
   "execution_count": 106,
   "metadata": {},
   "outputs": [],
   "source": [
    "a = (np.dot(u1, B[:,0]))\n",
    "b = (np.dot(u2, B[:,0]))\n",
    "d = (np.dot(u1, B[:,1]))\n",
    "e = (np.dot(u2, B[:,1]))\n",
    "g = (np.dot(u1, B[:,2]))\n",
    "h = (np.dot(u2, B[:,2]))\n",
    "j = (np.dot(u1, B[:,3]))\n",
    "k = (np.dot(u2, B[:,3]))"
   ]
  },
  {
   "cell_type": "code",
   "execution_count": 76,
   "metadata": {},
   "outputs": [
    {
     "data": {
      "text/plain": [
       "16.861218365867906"
      ]
     },
     "execution_count": 76,
     "metadata": {},
     "output_type": "execute_result"
    }
   ],
   "source": [
    "sum_sq = np.sum(np.square(a - score_matrix[:,0])) \n",
    "sum_sq"
   ]
  },
  {
   "cell_type": "code",
   "execution_count": 111,
   "metadata": {},
   "outputs": [
    {
     "data": {
      "text/plain": [
       "4.106858941005563"
      ]
     },
     "execution_count": 111,
     "metadata": {},
     "output_type": "execute_result"
    }
   ],
   "source": [
    "dst = distance.euclidean(score_matrix[:,0], a)\n",
    "dst2 = distance.euclidean(score_matrix[:,0], b)\n",
    "dst\n"
   ]
  },
  {
   "cell_type": "code",
   "execution_count": 81,
   "metadata": {},
   "outputs": [
    {
     "data": {
      "text/plain": [
       "array([[-0.63433385],\n",
       "       [-1.18655924]])"
      ]
     },
     "execution_count": 81,
     "metadata": {},
     "output_type": "execute_result"
    }
   ],
   "source": [
    "W = score_matrix[:,1]\n",
    "W.reshape(2,1)"
   ]
  },
  {
   "cell_type": "code",
   "execution_count": 82,
   "metadata": {},
   "outputs": [
    {
     "data": {
      "text/plain": [
       "2.092273579632036"
      ]
     },
     "execution_count": 82,
     "metadata": {},
     "output_type": "execute_result"
    }
   ],
   "source": [
    "dst = distance.euclidean(b, W)\n",
    "dst"
   ]
  },
  {
   "cell_type": "code",
   "execution_count": 83,
   "metadata": {},
   "outputs": [
    {
     "data": {
      "text/plain": [
       "20.053215459110035"
      ]
     },
     "execution_count": 83,
     "metadata": {},
     "output_type": "execute_result"
    }
   ],
   "source": [
    "sum_sq = np.sum(np.square(b - score_matrix[:,0])) \n",
    "sum_sq"
   ]
  },
  {
   "cell_type": "code",
   "execution_count": 84,
   "metadata": {},
   "outputs": [
    {
     "data": {
      "text/plain": [
       "0.8011209264391677"
      ]
     },
     "execution_count": 84,
     "metadata": {},
     "output_type": "execute_result"
    }
   ],
   "source": [
    "sum_sq = np.sum(np.square(d - score_matrix[:,1])) \n",
    "sum_sq"
   ]
  },
  {
   "cell_type": "code",
   "execution_count": 85,
   "metadata": {},
   "outputs": [
    {
     "data": {
      "text/plain": [
       "3.5218625382537416"
      ]
     },
     "execution_count": 85,
     "metadata": {},
     "output_type": "execute_result"
    }
   ],
   "source": [
    "sum_sq = np.sum(np.square(e - score_matrix[:,1])) \n",
    "sum_sq"
   ]
  },
  {
   "cell_type": "code",
   "execution_count": 86,
   "metadata": {},
   "outputs": [
    {
     "data": {
      "text/plain": [
       "44.99719192617756"
      ]
     },
     "execution_count": 86,
     "metadata": {},
     "output_type": "execute_result"
    }
   ],
   "source": [
    "sum_sq = np.sum(np.square(g - score_matrix[:,2])) \n",
    "sum_sq"
   ]
  },
  {
   "cell_type": "code",
   "execution_count": 87,
   "metadata": {},
   "outputs": [
    {
     "data": {
      "text/plain": [
       "18.740413799294533"
      ]
     },
     "execution_count": 87,
     "metadata": {},
     "output_type": "execute_result"
    }
   ],
   "source": [
    "sum_sq = np.sum(np.square(h - score_matrix[:,2])) \n",
    "sum_sq"
   ]
  },
  {
   "cell_type": "code",
   "execution_count": 88,
   "metadata": {},
   "outputs": [
    {
     "data": {
      "text/plain": [
       "7.949046840470971"
      ]
     },
     "execution_count": 88,
     "metadata": {},
     "output_type": "execute_result"
    }
   ],
   "source": [
    "sum_sq = np.sum(np.square(k - score_matrix[:,3])) \n",
    "sum_sq"
   ]
  },
  {
   "cell_type": "code",
   "execution_count": 89,
   "metadata": {},
   "outputs": [
    {
     "ename": "NameError",
     "evalue": "name 'l' is not defined",
     "output_type": "error",
     "traceback": [
      "\u001b[0;31m---------------------------------------------------------------------------\u001b[0m",
      "\u001b[0;31mNameError\u001b[0m                                 Traceback (most recent call last)",
      "\u001b[0;32m<ipython-input-89-f2cb79fbc830>\u001b[0m in \u001b[0;36m<module>\u001b[0;34m\u001b[0m\n\u001b[0;32m----> 1\u001b[0;31m \u001b[0msum_sq\u001b[0m \u001b[0;34m=\u001b[0m \u001b[0mnp\u001b[0m\u001b[0;34m.\u001b[0m\u001b[0msum\u001b[0m\u001b[0;34m(\u001b[0m\u001b[0mnp\u001b[0m\u001b[0;34m.\u001b[0m\u001b[0msquare\u001b[0m\u001b[0;34m(\u001b[0m\u001b[0ml\u001b[0m \u001b[0;34m-\u001b[0m \u001b[0mscore_matrix\u001b[0m\u001b[0;34m[\u001b[0m\u001b[0;34m:\u001b[0m\u001b[0;34m,\u001b[0m\u001b[0;36m3\u001b[0m\u001b[0;34m]\u001b[0m\u001b[0;34m)\u001b[0m\u001b[0;34m)\u001b[0m\u001b[0;34m\u001b[0m\u001b[0;34m\u001b[0m\u001b[0m\n\u001b[0m\u001b[1;32m      2\u001b[0m \u001b[0msum_sq\u001b[0m\u001b[0;34m\u001b[0m\u001b[0;34m\u001b[0m\u001b[0m\n",
      "\u001b[0;31mNameError\u001b[0m: name 'l' is not defined"
     ]
    }
   ],
   "source": [
    "sum_sq = np.sum(np.square(l - score_matrix[:,3])) \n",
    "sum_sq"
   ]
  },
  {
   "cell_type": "code",
   "execution_count": 96,
   "metadata": {},
   "outputs": [
    {
     "data": {
      "text/plain": [
       "array([[ 1,  5,  1,  5],\n",
       "       [ 5,  1, -2,  3],\n",
       "       [ 2,  3,  0,  2],\n",
       "       [ 2, -3,  2,  3],\n",
       "       [ 0,  0,  2, -2],\n",
       "       [ 2,  2, -1,  1]])"
      ]
     },
     "execution_count": 96,
     "metadata": {},
     "output_type": "execute_result"
    }
   ],
   "source": [
    "# part 3\n",
    "Y1 = np.array([[1, 5, 1, 5, 5, 1], [-2, 3, 2, 3, 0, 2], [2, -3, 2, 3, 0, 0], [2, -2, 2, 2, -1, 1]])\n",
    "Y1.reshape(6,4)"
   ]
  },
  {
   "cell_type": "code",
   "execution_count": 98,
   "metadata": {},
   "outputs": [
    {
     "ename": "ValueError",
     "evalue": "operands could not be broadcast together with shapes (4,) (6,) (4,) ",
     "output_type": "error",
     "traceback": [
      "\u001b[0;31m---------------------------------------------------------------------------\u001b[0m",
      "\u001b[0;31mValueError\u001b[0m                                Traceback (most recent call last)",
      "\u001b[0;32m<ipython-input-98-c428cd5b89e6>\u001b[0m in \u001b[0;36m<module>\u001b[0;34m\u001b[0m\n\u001b[1;32m      1\u001b[0m \u001b[0mY1\u001b[0m \u001b[0;34m=\u001b[0m \u001b[0mY1\u001b[0m\u001b[0;34m.\u001b[0m\u001b[0mastype\u001b[0m\u001b[0;34m(\u001b[0m\u001b[0mnp\u001b[0m\u001b[0;34m.\u001b[0m\u001b[0mfloat\u001b[0m\u001b[0;34m)\u001b[0m\u001b[0;34m\u001b[0m\u001b[0;34m\u001b[0m\u001b[0m\n\u001b[1;32m      2\u001b[0m \u001b[0;32mfor\u001b[0m \u001b[0mi\u001b[0m \u001b[0;32min\u001b[0m \u001b[0mrange\u001b[0m\u001b[0;34m(\u001b[0m\u001b[0mY1\u001b[0m\u001b[0;34m.\u001b[0m\u001b[0mshape\u001b[0m\u001b[0;34m[\u001b[0m\u001b[0;36m1\u001b[0m\u001b[0;34m]\u001b[0m\u001b[0;34m)\u001b[0m\u001b[0;34m:\u001b[0m\u001b[0;34m\u001b[0m\u001b[0;34m\u001b[0m\u001b[0m\n\u001b[0;32m----> 3\u001b[0;31m     \u001b[0mY1\u001b[0m\u001b[0;34m[\u001b[0m\u001b[0;34m:\u001b[0m\u001b[0;34m,\u001b[0m\u001b[0mi\u001b[0m\u001b[0;34m]\u001b[0m \u001b[0;34m-=\u001b[0m \u001b[0mrow_means\u001b[0m\u001b[0;34m\u001b[0m\u001b[0;34m\u001b[0m\u001b[0m\n\u001b[0m\u001b[1;32m      4\u001b[0m \u001b[0;31m#print(Y1)\u001b[0m\u001b[0;34m\u001b[0m\u001b[0;34m\u001b[0m\u001b[0;34m\u001b[0m\u001b[0m\n",
      "\u001b[0;31mValueError\u001b[0m: operands could not be broadcast together with shapes (4,) (6,) (4,) "
     ]
    }
   ],
   "source": [
    "Y1 = Y1.astype(np.float)\n",
    "for i in range(Y1.shape[1]): \n",
    "    Y1[:,i] -= row_means  \n",
    "#print(Y1)"
   ]
  },
  {
   "cell_type": "code",
   "execution_count": null,
   "metadata": {},
   "outputs": [],
   "source": []
  }
 ],
 "metadata": {
  "kernelspec": {
   "display_name": "Python 3",
   "language": "python",
   "name": "python3"
  },
  "language_info": {
   "codemirror_mode": {
    "name": "ipython",
    "version": 3
   },
   "file_extension": ".py",
   "mimetype": "text/x-python",
   "name": "python",
   "nbconvert_exporter": "python",
   "pygments_lexer": "ipython3",
   "version": "3.8.5"
  }
 },
 "nbformat": 4,
 "nbformat_minor": 4
}
