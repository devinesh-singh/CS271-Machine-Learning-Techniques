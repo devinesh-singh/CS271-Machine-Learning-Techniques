{
 "cells": [
  {
   "cell_type": "code",
   "execution_count": 22,
   "metadata": {},
   "outputs": [],
   "source": [
    "# Libraries\n",
    "import numpy as np\n",
    "import matplotlib.pyplot as plt\n",
    "import pandas as pd\n",
    "import statsmodels.api as sm\n",
    "from math import sqrt\n",
    "from scipy import stats\n",
    "from sklearn.decomposition import PCA\n",
    "import scipy.linalg as la\n",
    "from scipy.spatial import distance\n"
   ]
  },
  {
   "cell_type": "code",
   "execution_count": 23,
   "metadata": {},
   "outputs": [],
   "source": [
    "B = np.array([[2, 2, 1, 2], [1, 3, 0, 3], [0, 1, 3, 1], [3, 2, 3, 0], [1, 3, 1, 3], [1, 0, 1, 2]])"
   ]
  },
  {
   "cell_type": "code",
   "execution_count": 24,
   "metadata": {},
   "outputs": [],
   "source": [
    "row_means = np.mean(B, axis=1)"
   ]
  },
  {
   "cell_type": "code",
   "execution_count": 25,
   "metadata": {},
   "outputs": [],
   "source": [
    "# subtract the row means\n",
    "B = B.astype(np.float)\n",
    "for i in range(B.shape[1]): \n",
    "    B[:,i] -= row_means  "
   ]
  },
  {
   "cell_type": "code",
   "execution_count": 26,
   "metadata": {},
   "outputs": [
    {
     "data": {
      "text/plain": [
       "array([[ 0.25,  0.25, -0.75,  0.25],\n",
       "       [-0.75,  1.25, -1.75,  1.25],\n",
       "       [-1.25, -0.25,  1.75, -0.25],\n",
       "       [ 1.  ,  0.  ,  1.  , -2.  ],\n",
       "       [-1.  ,  1.  , -1.  ,  1.  ],\n",
       "       [ 0.  , -1.  ,  0.  ,  1.  ]])"
      ]
     },
     "execution_count": 26,
     "metadata": {},
     "output_type": "execute_result"
    }
   ],
   "source": [
    "B"
   ]
  },
  {
   "cell_type": "code",
   "execution_count": 27,
   "metadata": {},
   "outputs": [],
   "source": [
    "A = B\n",
    "A_transpose = np.transpose(A)\n",
    "C = (np.matmul(A, A_transpose))"
   ]
  },
  {
   "cell_type": "code",
   "execution_count": 28,
   "metadata": {},
   "outputs": [
    {
     "name": "stdout",
     "output_type": "stream",
     "text": [
      "[[ 0.16408622  0.2443382  -0.07100155  0.64819859  0.61365756 -0.33406036]\n",
      " [ 0.62780739  0.1070203   0.29337893  0.4386627  -0.49702136  0.26244646]\n",
      " [-0.26039808 -0.80167357  0.39519489  0.36228709  0.03887874 -0.0238713 ]\n",
      " [-0.53891957  0.42774159  0.34390332  0.21089066  0.11334117  0.59246286]\n",
      " [ 0.46372117 -0.1373179   0.36438048 -0.40891558  0.59092315  0.34195205]\n",
      " [ 0.0751984  -0.29042369 -0.70828381  0.21089066  0.11334117  0.59246286]]\n",
      "[4.04144436e+00 2.22387915e+00 1.72368473e+00 3.92365926e-16]\n"
     ]
    }
   ],
   "source": [
    "D, U, V = la.svd(A, full_matrices=True, compute_uv=True)\n",
    "print(D)\n",
    "print(U)"
   ]
  },
  {
   "cell_type": "code",
   "execution_count": 29,
   "metadata": {},
   "outputs": [],
   "source": [
    "u1 = [ 0.1641,  0.6278 , -0.2604,  -0.5389,  0.4637,\n",
    "         0.0752]"
   ]
  },
  {
   "cell_type": "code",
   "execution_count": 30,
   "metadata": {},
   "outputs": [],
   "source": [
    "u2 = [ 0.2443,  0.1070 ,  -0.8017,  0.4277 , -0.1373,\n",
    "          -0.2904]"
   ]
  },
  {
   "cell_type": "code",
   "execution_count": 31,
   "metadata": {},
   "outputs": [],
   "source": [
    "u3 = [-0.0710 , 0.2934, 0.3952,  0.3439,  0.3644,\n",
    "         -0.7083]"
   ]
  },
  {
   "cell_type": "code",
   "execution_count": null,
   "metadata": {},
   "outputs": [],
   "source": []
  },
  {
   "cell_type": "code",
   "execution_count": 32,
   "metadata": {},
   "outputs": [],
   "source": [
    "X1 = A[:,0]\n",
    "X1 = X1.reshape((6, 1))\n",
    "X2 = A[:, 1]\n",
    "X2 = X2.reshape((6, 1))\n",
    "X3 = A[:,2]\n",
    "X3 = X3.reshape((6, 1))\n",
    "X4 = A[:, 3]\n",
    "X4 = X4.reshape((6, 1))"
   ]
  },
  {
   "cell_type": "code",
   "execution_count": 33,
   "metadata": {},
   "outputs": [],
   "source": [
    "score = np.array([-1.1069,1.5480])"
   ]
  },
  {
   "cell_type": "code",
   "execution_count": 34,
   "metadata": {},
   "outputs": [
    {
     "name": "stdout",
     "output_type": "stream",
     "text": [
      "[-1.106925]\n",
      "[1.54795]\n",
      "[1.279375]\n",
      "[0.54835]\n",
      "[-2.680025]\n",
      "[-1.20845]\n",
      "[2.507575]\n",
      "[-0.88785]\n"
     ]
    }
   ],
   "source": [
    "print(np.dot(u1, X1))\n",
    "print(np.dot(u2, X1))\n",
    "#print(np.dot(u3, X1))\n",
    "\n",
    "print(np.dot(u1, X2))\n",
    "print(np.dot(u2, X2))\n",
    "#print(np.dot(u3, X2))\n",
    "\n",
    "print(np.dot(u1, X3))\n",
    "print(np.dot(u2, X3))\n",
    "#print(np.dot(u3, X3))\n",
    "\n",
    "print(np.dot(u1, X4))\n",
    "print(np.dot(u2, X4))\n",
    "#print(np.dot(u3, X4))\n",
    "\n",
    "score_matrix = np.array([-1.106925, 1.279375, -2.680025, 2.507575, 1.54795, 0.54835, -1.20845,-0.88785])\n",
    "score_matrix = score_matrix.reshape((2, 4))"
   ]
  },
  {
   "cell_type": "code",
   "execution_count": 35,
   "metadata": {},
   "outputs": [],
   "source": [
    "Y = np.array([[2, 1, 0, 3, 1, 1]])\n",
    "Y = Y.reshape((6, 1))"
   ]
  },
  {
   "cell_type": "code",
   "execution_count": 36,
   "metadata": {},
   "outputs": [
    {
     "name": "stdout",
     "output_type": "stream",
     "text": [
      "[[ 0.25]\n",
      " [-0.75]\n",
      " [-1.25]\n",
      " [ 1.  ]\n",
      " [-1.  ]\n",
      " [ 0.  ]]\n"
     ]
    }
   ],
   "source": [
    "Y = Y.astype(np.float)\n",
    "for i in range(Y.shape[1]): \n",
    "    Y[:,i] -= row_means  \n",
    "print(Y)"
   ]
  },
  {
   "cell_type": "code",
   "execution_count": 37,
   "metadata": {},
   "outputs": [
    {
     "name": "stdout",
     "output_type": "stream",
     "text": [
      "[-1.106925]\n",
      "[1.54795]\n"
     ]
    }
   ],
   "source": [
    "print(np.dot(u1, Y))\n",
    "print(np.dot(u2, Y))\n",
    "W = np.array([[-1.106925], [1.54795]])"
   ]
  },
  {
   "cell_type": "code",
   "execution_count": 38,
   "metadata": {},
   "outputs": [
    {
     "data": {
      "text/plain": [
       "14.096855281249999"
      ]
     },
     "execution_count": 38,
     "metadata": {},
     "output_type": "execute_result"
    }
   ],
   "source": [
    "sum_sq = np.sum(np.square(W - score)) \n",
    "sum_sq"
   ]
  },
  {
   "cell_type": "code",
   "execution_count": 39,
   "metadata": {},
   "outputs": [],
   "source": [
    "score = W"
   ]
  },
  {
   "cell_type": "code",
   "execution_count": 40,
   "metadata": {},
   "outputs": [
    {
     "data": {
      "text/plain": [
       "0.0"
      ]
     },
     "execution_count": 40,
     "metadata": {},
     "output_type": "execute_result"
    }
   ],
   "source": [
    "dst = distance.euclidean(score, W)\n",
    "dst"
   ]
  },
  {
   "cell_type": "code",
   "execution_count": 41,
   "metadata": {},
   "outputs": [
    {
     "ename": "NameError",
     "evalue": "name 'decomposition' is not defined",
     "output_type": "error",
     "traceback": [
      "\u001b[0;31m---------------------------------------------------------------------------\u001b[0m",
      "\u001b[0;31mNameError\u001b[0m                                 Traceback (most recent call last)",
      "\u001b[0;32m<ipython-input-41-245b6bf57cd4>\u001b[0m in \u001b[0;36m<module>\u001b[0;34m\u001b[0m\n\u001b[0;32m----> 1\u001b[0;31m \u001b[0mpca\u001b[0m \u001b[0;34m=\u001b[0m \u001b[0mdecomposition\u001b[0m\u001b[0;34m.\u001b[0m\u001b[0mPCA\u001b[0m\u001b[0;34m(\u001b[0m\u001b[0mn_components\u001b[0m\u001b[0;34m=\u001b[0m\u001b[0;36m2\u001b[0m\u001b[0;34m)\u001b[0m\u001b[0;34m\u001b[0m\u001b[0;34m\u001b[0m\u001b[0m\n\u001b[0m\u001b[1;32m      2\u001b[0m \u001b[0mX\u001b[0m \u001b[0;34m=\u001b[0m \u001b[0mpca\u001b[0m\u001b[0;34m.\u001b[0m\u001b[0mfit_transform\u001b[0m\u001b[0;34m(\u001b[0m\u001b[0mX\u001b[0m\u001b[0;34m)\u001b[0m\u001b[0;34m\u001b[0m\u001b[0;34m\u001b[0m\u001b[0m\n",
      "\u001b[0;31mNameError\u001b[0m: name 'decomposition' is not defined"
     ]
    }
   ],
   "source": [
    "pca = decomposition.PCA(n_components=2)\n",
    "X = pca.fit_transform(X)"
   ]
  },
  {
   "cell_type": "code",
   "execution_count": 49,
   "metadata": {},
   "outputs": [],
   "source": [
    "lambdas = np.array([[4.04144436, 1.2364, 0.7428]])"
   ]
  },
  {
   "cell_type": "code",
   "execution_count": 53,
   "metadata": {},
   "outputs": [
    {
     "name": "stdout",
     "output_type": "stream",
     "text": [
      "[ 0.32989587  1.26208793 -0.52349108 -1.0833692   0.93219206  0.15117715]\n",
      "[ 0.27164578  0.11897707 -0.89143849  0.47557471 -0.15266871 -0.322906  ]\n",
      "[-0.06119195  0.25286927  0.34060646  0.29639312  0.31406122 -0.61045435]\n"
     ]
    }
   ],
   "source": [
    "print(np.sqrt(lambdas[:,0]) * u1)\n",
    "print(np.sqrt(lambdas[:,1]) * u2)\n",
    "print(np.sqrt(lambdas[:,2]) * u3)"
   ]
  },
  {
   "cell_type": "markdown",
   "metadata": {},
   "source": []
  },
  {
   "cell_type": "code",
   "execution_count": null,
   "metadata": {},
   "outputs": [],
   "source": []
  },
  {
   "cell_type": "code",
   "execution_count": null,
   "metadata": {},
   "outputs": [],
   "source": []
  },
  {
   "cell_type": "code",
   "execution_count": null,
   "metadata": {},
   "outputs": [],
   "source": []
  }
 ],
 "metadata": {
  "kernelspec": {
   "display_name": "Python 3",
   "language": "python",
   "name": "python3"
  },
  "language_info": {
   "codemirror_mode": {
    "name": "ipython",
    "version": 3
   },
   "file_extension": ".py",
   "mimetype": "text/x-python",
   "name": "python",
   "nbconvert_exporter": "python",
   "pygments_lexer": "ipython3",
   "version": "3.8.5"
  }
 },
 "nbformat": 4,
 "nbformat_minor": 4
}
