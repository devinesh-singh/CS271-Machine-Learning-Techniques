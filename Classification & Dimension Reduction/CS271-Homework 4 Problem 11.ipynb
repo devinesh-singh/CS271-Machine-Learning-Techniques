{
 "cells": [
  {
   "cell_type": "code",
   "execution_count": 24,
   "metadata": {},
   "outputs": [],
   "source": [
    "# Libraries\n",
    "import numpy as np\n",
    "import matplotlib.pyplot as plt\n",
    "import pandas as pd\n",
    "import statsmodels.api as sm\n",
    "from math import sqrt\n",
    "from scipy import stats\n",
    "from sklearn.decomposition import PCA\n",
    "import scipy.linalg as la\n",
    "from scipy.spatial import distance"
   ]
  },
  {
   "cell_type": "code",
   "execution_count": 25,
   "metadata": {},
   "outputs": [],
   "source": [
    "# define the matrix:\n",
    "B = np.array([[2, -2, -1, 3], [-1, 3, 3, -1], [0, 2, 3, 0], [1, 3, 1, 3], [1, 0, -1, 2], [-3, 2, 4, -1], [5, -1, 5, 3], [2, 1, 2, 0]])"
   ]
  },
  {
   "cell_type": "code",
   "execution_count": 26,
   "metadata": {},
   "outputs": [],
   "source": [
    "# compute the row means\n",
    "row_means = np.mean(B, axis=1)"
   ]
  },
  {
   "cell_type": "code",
   "execution_count": 27,
   "metadata": {},
   "outputs": [],
   "source": [
    "# subtract the row means\n",
    "B = B.astype(np.float)\n",
    "for i in range(B.shape[1]): \n",
    "    B[:,i] -= row_means  "
   ]
  },
  {
   "cell_type": "code",
   "execution_count": 28,
   "metadata": {},
   "outputs": [],
   "source": [
    "# subtract the row means\n",
    "B = B.astype(np.float)\n",
    "for i in range(B.shape[1]): \n",
    "    B[:,i] -= row_means  "
   ]
  },
  {
   "cell_type": "code",
   "execution_count": 29,
   "metadata": {
    "scrolled": false
   },
   "outputs": [
    {
     "data": {
      "text/plain": [
       "(array([[-0.06034213,  0.4781237 , -0.11987829,  0.4527863 ,  0.23811444,\n",
       "         -0.64018626,  0.16768254,  0.231767  ],\n",
       "        [-0.2634675 , -0.43843494, -0.11699986, -0.21492963,  0.54869919,\n",
       "         -0.19326684,  0.51447287, -0.27453738],\n",
       "        [-0.31948918, -0.24997171, -0.05615329, -0.05563285, -0.68553908,\n",
       "         -0.19542125,  0.43732551,  0.36025783],\n",
       "        [-0.32742499,  0.02341772, -0.82488343, -0.02112292,  0.12420066,\n",
       "          0.26708138, -0.23636054,  0.26218516],\n",
       "        [-0.03197875,  0.23092633, -0.35394178,  0.09690335, -0.38621429,\n",
       "         -0.10140833,  0.08593642, -0.80259277],\n",
       "        [-0.22921935, -0.5692679 ,  0.08809548,  0.66216031, -0.02803782,\n",
       "         -0.10914919, -0.3849925 , -0.12750121],\n",
       "        [-0.75831666,  0.37248165,  0.38478856,  0.07929323,  0.06871488,\n",
       "          0.33990509,  0.05454717, -0.09290318],\n",
       "        [-0.29842073, -0.00167046,  0.08518522, -0.53955044, -0.04660196,\n",
       "         -0.55277019, -0.54909074, -0.05782576]]),\n",
       " array([8.27785705e+01, 7.17458400e+01, 1.62894720e+01, 5.18611756e+00,\n",
       "        6.85508499e-15, 2.97679568e-15, 1.65043751e-15, 6.70066048e-16]),\n",
       " array([[-0.06034213, -0.2634675 , -0.31948918, -0.32742499, -0.03197875,\n",
       "         -0.22921935, -0.75831666, -0.29842073],\n",
       "        [ 0.4781237 , -0.43843494, -0.24997171,  0.02341772,  0.23092633,\n",
       "         -0.5692679 ,  0.37248165, -0.00167046],\n",
       "        [-0.11987829, -0.11699986, -0.05615329, -0.82488343, -0.35394178,\n",
       "          0.08809548,  0.38478856,  0.08518522],\n",
       "        [ 0.4527863 , -0.21492963, -0.05563285, -0.02112292,  0.09690335,\n",
       "          0.66216031,  0.07929323, -0.53955044],\n",
       "        [ 0.46306724, -0.13700998,  0.77235155, -0.1612035 , -0.14508858,\n",
       "         -0.09571288, -0.28271231,  0.18478527],\n",
       "        [-0.33611579,  0.09225705,  0.44057135, -0.08953744,  0.20342798,\n",
       "         -0.32746195,  0.21163295, -0.69497624],\n",
       "        [-0.43606938, -0.79410128,  0.16643688,  0.29473316, -0.1946522 ,\n",
       "          0.13994027,  0.05305069,  0.06626196],\n",
       "        [ 0.17552411,  0.14351319, -0.10421772,  0.300823  , -0.84300784,\n",
       "         -0.20297756,  0.06583667, -0.3017331 ]]))"
      ]
     },
     "execution_count": 29,
     "metadata": {},
     "output_type": "execute_result"
    }
   ],
   "source": [
    "# compute the eigenvalues/eigenvectors (use svd)\n",
    "la.svd(C, full_matrices=True, compute_uv=True)"
   ]
  },
  {
   "cell_type": "code",
   "execution_count": 30,
   "metadata": {},
   "outputs": [],
   "source": [
    "A = B\n",
    "A_transpose = np.transpose(A)\n",
    "C = (np.matmul(A, A_transpose))"
   ]
  },
  {
   "cell_type": "code",
   "execution_count": 31,
   "metadata": {},
   "outputs": [],
   "source": [
    "# principal components\n",
    "u1 = (np.array([[-0.46536222,   0.46992727,  0.29148827,  0.01799517, -0.22596605,\n",
    "          0.59653918, -0.26182389,  0.04296201]]))\n",
    "u2 = (np.array([[-0.03737162, -0.04179176, -0.1539934 ,  0.35316746,  0.19747961,\n",
    "         -0.21056644, -0.84376578, -0.23051788 ]]))\n",
    "u3 = (np.array([[0.48276203, -0.10894711,  0.03582972,  0.33194317,  0.22044514,\n",
    "          0.61144594,  0.13821706, -0.44948322]]))"
   ]
  },
  {
   "cell_type": "code",
   "execution_count": 32,
   "metadata": {},
   "outputs": [
    {
     "name": "stdout",
     "output_type": "stream",
     "text": [
      "[[ 0.06034213  0.4781237   0.11987829 -0.4527863  -0.31194574  0.43273032\n",
      "  -0.50714515  0.0812923 ]\n",
      " [ 0.2634675  -0.43843494  0.11699986  0.21492963  0.07805462 -0.09601525\n",
      "  -0.73303134 -0.35472464]\n",
      " [ 0.31948918 -0.24997171  0.05615329  0.05563285 -0.17178555  0.68452209\n",
      "   0.38751082 -0.42537889]\n",
      " [ 0.32742499  0.02341772  0.82488343  0.02112292 -0.2699391  -0.29056477\n",
      "   0.17905358  0.14835916]\n",
      " [ 0.03197875  0.23092633  0.35394178 -0.09690335  0.87251367  0.20231452\n",
      "   0.0127667  -0.09279596]\n",
      " [ 0.22921935 -0.5692679  -0.08809548 -0.66216031  0.14461832  0.00475925\n",
      "   0.0390987   0.39333146]\n",
      " [ 0.75831666  0.37248165 -0.38478856 -0.07929323  0.07443338 -0.30746056\n",
      "   0.08826955 -0.15491855]\n",
      " [ 0.29842073 -0.00167046 -0.08518522  0.53955044  0.0805298   0.33917746\n",
      "  -0.1173065   0.69085734]]\n",
      "[9.09827294 8.47029161 4.0360218  2.27730489]\n"
     ]
    }
   ],
   "source": [
    "D, U, V = la.svd(A, full_matrices=True, compute_uv=True)\n",
    "print(D)\n",
    "print(U)"
   ]
  },
  {
   "cell_type": "code",
   "execution_count": 33,
   "metadata": {},
   "outputs": [],
   "source": [
    "X1 = A[:,0]\n",
    "X1 = X1.reshape((8, 1))\n",
    "X2 = A[:, 1]\n",
    "X2 = X2.reshape((8, 1))\n",
    "X3 = A[:,2]\n",
    "X3 = X3.reshape((8, 1))\n",
    "X4 = A[:, 3]\n",
    "X4 = X4.reshape((8, 1))"
   ]
  },
  {
   "cell_type": "markdown",
   "metadata": {},
   "source": [
    "u1"
   ]
  },
  {
   "cell_type": "code",
   "execution_count": 34,
   "metadata": {},
   "outputs": [
    {
     "name": "stdout",
     "output_type": "stream",
     "text": [
      "[[-4.80366405]]\n",
      "[[1.21477526]]\n",
      "[[-2.63505966]]\n",
      "[[4.29310407]]\n",
      "[[5.63824357]]\n",
      "[[-1.80938502]]\n",
      "[[3.97430286]]\n",
      "[[-1.17118142]]\n",
      "[[-0.57241373]]\n",
      "[[-3.82819986]]\n",
      "[[3.80865261]]\n",
      "[[0.57745805]]\n"
     ]
    }
   ],
   "source": [
    "print(np.dot(u1, X1))\n",
    "print(np.dot(u2, X1))\n",
    "print(np.dot(u3, X1))\n",
    "\n",
    "print(np.dot(u1, X2))\n",
    "print(np.dot(u2, X2))\n",
    "print(np.dot(u3, X2))\n",
    "\n",
    "print(np.dot(u1, X3))\n",
    "print(np.dot(u2, X3))\n",
    "print(np.dot(u3, X3))\n",
    "\n",
    "print(np.dot(u1, X4))\n",
    "print(np.dot(u2, X4))\n",
    "print(np.dot(u3, X4))\n",
    "\n"
   ]
  },
  {
   "cell_type": "code",
   "execution_count": 37,
   "metadata": {},
   "outputs": [
    {
     "data": {
      "text/plain": [
       "array([[-4.71254981, -1.15784725, -1.52520957,  4.38421832],\n",
       "       [ 3.26562107, -0.69953493,  4.0654171 , -3.54380392],\n",
       "       [ 0.53743636, -3.73708561,  1.4360301 ,  1.68730814]])"
      ]
     },
     "execution_count": 37,
     "metadata": {},
     "output_type": "execute_result"
    }
   ],
   "source": [
    "\n",
    "score_matrix = np.array([[-4.71254981,\n",
    "-1.15784725,\n",
    "-1.52520957,\n",
    "4.38421832,\n",
    "3.26562107,\n",
    "-0.69953493,\n",
    "4.0654171,\n",
    "-3.54380392,\n",
    "0.53743636,\n",
    "-3.73708561,\n",
    "1.4360301,\n",
    "1.68730814]])\n",
    "score_matrix.reshape(3,4)"
   ]
  },
  {
   "cell_type": "code",
   "execution_count": 36,
   "metadata": {},
   "outputs": [],
   "source": [
    "# part B: initialize the vectors\n",
    "Y1 = (np.array([[1, 5, 1, 5, 5, 1, 1, 3]]))\n",
    "Y2 = (np.array([[-2, 3, 2, 3, 0, 2, -1, 1]]))\n",
    "Y3 = (np.array([[2, -3, 2, 3, 0, 0, 2, -1]]))\n",
    "Y4 = (np.array([[2, -2, 2, 2, -1, 1, 2, 2]]))"
   ]
  },
  {
   "cell_type": "code",
   "execution_count": 200,
   "metadata": {},
   "outputs": [
    {
     "data": {
      "text/plain": [
       "array([[ 1,  5,  1,  5],\n",
       "       [ 5,  1,  1,  3],\n",
       "       [-2,  3,  2,  3],\n",
       "       [ 0,  2, -1,  1],\n",
       "       [ 2, -3,  2,  3],\n",
       "       [ 0,  0,  2, -1],\n",
       "       [ 2, -2,  2,  2],\n",
       "       [-1,  1,  2,  2]])"
      ]
     },
     "execution_count": 200,
     "metadata": {},
     "output_type": "execute_result"
    }
   ],
   "source": [
    "# create a matrix with all y-vectors\n",
    "Y = np.array([[1, 5, 1, 5, 5, 1, 1, 3], [-2, 3, 2, 3, 0, 2, -1, 1], [2, -3, 2, 3, 0, 0, 2, -1], [2, -2, 2, 2, -1, 1, 2, 2]])\n",
    "Y.reshape(8,4)"
   ]
  },
  {
   "cell_type": "code",
   "execution_count": 201,
   "metadata": {},
   "outputs": [],
   "source": [
    "# subtract the mean for each y-vector\n",
    "Y = Y.astype(np.float)\n",
    "Y = np.transpose(Y)\n",
    "for i in range(Y.shape[1]): \n",
    "    Y[:,i] -= row_means "
   ]
  },
  {
   "cell_type": "code",
   "execution_count": 203,
   "metadata": {},
   "outputs": [],
   "source": [
    "a = (np.dot(u1, Y[:,0]))\n",
    "b = (np.dot(u2, Y[:,0]))\n",
    "c = (np.dot(u3, Y[:,0]))\n",
    "d = (np.dot(u1, Y[:,1]))\n",
    "e = (np.dot(u2, Y[:,1]))\n",
    "f = (np.dot(u3, Y[:,1]))\n",
    "g = (np.dot(u1, Y[:,2]))\n",
    "h = (np.dot(u2, Y[:,2]))\n",
    "i = (np.dot(u3, Y[:,2]))\n",
    "j = (np.dot(u1, Y[:,3]))\n",
    "k = (np.dot(u2, Y[:,3]))\n",
    "l = (np.dot(u3, Y[:,3]))"
   ]
  },
  {
   "cell_type": "markdown",
   "metadata": {},
   "source": [
    "dist1 = np.sqrt(np.linalg.norm(a - score_matrix[0]))\n",
    "dist2 = np.linalg.norm(np.dot(Y1, u2) - score_matrix[1])\n",
    "dist3 = np.linalg.norm(np.dot(Y1, u3) - score_matrix[2])\n",
    "\n",
    "print(dist1)\n",
    "print(dist2)\n",
    "print(dist3)\n"
   ]
  },
  {
   "cell_type": "code",
   "execution_count": 209,
   "metadata": {},
   "outputs": [
    {
     "data": {
      "text/plain": [
       "38.70015526220766"
      ]
     },
     "execution_count": 209,
     "metadata": {},
     "output_type": "execute_result"
    }
   ],
   "source": [
    "sum_sq = np.sum(np.square(a - score_matrix[:,0])) \n",
    "sum_sq"
   ]
  },
  {
   "cell_type": "code",
   "execution_count": 210,
   "metadata": {},
   "outputs": [
    {
     "data": {
      "text/plain": [
       "59.16990984043806"
      ]
     },
     "execution_count": 210,
     "metadata": {},
     "output_type": "execute_result"
    }
   ],
   "source": [
    "sum_sq = np.sum(np.square(b - score_matrix[:,0])) \n",
    "sum_sq"
   ]
  },
  {
   "cell_type": "code",
   "execution_count": 211,
   "metadata": {},
   "outputs": [
    {
     "data": {
      "text/plain": [
       "32.94428018243086"
      ]
     },
     "execution_count": 211,
     "metadata": {},
     "output_type": "execute_result"
    }
   ],
   "source": [
    "sum_sq = np.sum(np.square(c - score_matrix[:,0])) \n",
    "sum_sq"
   ]
  },
  {
   "cell_type": "code",
   "execution_count": 212,
   "metadata": {},
   "outputs": [
    {
     "data": {
      "text/plain": [
       "30.714490726758765"
      ]
     },
     "execution_count": 212,
     "metadata": {},
     "output_type": "execute_result"
    }
   ],
   "source": [
    "sum_sq = np.sum(np.square(d - score_matrix[:,1])) \n",
    "sum_sq"
   ]
  },
  {
   "cell_type": "code",
   "execution_count": 213,
   "metadata": {},
   "outputs": [
    {
     "data": {
      "text/plain": [
       "19.567071933808947"
      ]
     },
     "execution_count": 213,
     "metadata": {},
     "output_type": "execute_result"
    }
   ],
   "source": [
    "sum_sq = np.sum(np.square(e - score_matrix[:,1])) \n",
    "sum_sq"
   ]
  },
  {
   "cell_type": "code",
   "execution_count": 214,
   "metadata": {},
   "outputs": [
    {
     "data": {
      "text/plain": [
       "0.2100501826637825"
      ]
     },
     "execution_count": 214,
     "metadata": {},
     "output_type": "execute_result"
    }
   ],
   "source": [
    "sum_sq = np.sum(np.square(f - score_matrix[:,1])) \n",
    "sum_sq"
   ]
  },
  {
   "cell_type": "code",
   "execution_count": 215,
   "metadata": {},
   "outputs": [
    {
     "data": {
      "text/plain": [
       "0.6989940913215821"
      ]
     },
     "execution_count": 215,
     "metadata": {},
     "output_type": "execute_result"
    }
   ],
   "source": [
    "sum_sq = np.sum(np.square(g - score_matrix[:,2])) \n",
    "sum_sq"
   ]
  },
  {
   "cell_type": "code",
   "execution_count": 216,
   "metadata": {},
   "outputs": [
    {
     "data": {
      "text/plain": [
       "10.516828574444979"
      ]
     },
     "execution_count": 216,
     "metadata": {},
     "output_type": "execute_result"
    }
   ],
   "source": [
    "sum_sq = np.sum(np.square(h - score_matrix[:,2])) \n",
    "sum_sq"
   ]
  },
  {
   "cell_type": "code",
   "execution_count": 217,
   "metadata": {},
   "outputs": [
    {
     "data": {
      "text/plain": [
       "12.257919399522946"
      ]
     },
     "execution_count": 217,
     "metadata": {},
     "output_type": "execute_result"
    }
   ],
   "source": [
    "sum_sq = np.sum(np.square(i - score_matrix[:,2])) \n",
    "sum_sq"
   ]
  },
  {
   "cell_type": "code",
   "execution_count": 218,
   "metadata": {},
   "outputs": [
    {
     "data": {
      "text/plain": [
       "28.538707602012604"
      ]
     },
     "execution_count": 218,
     "metadata": {},
     "output_type": "execute_result"
    }
   ],
   "source": [
    "sum_sq = np.sum(np.square(j - score_matrix[:,3])) \n",
    "sum_sq"
   ]
  },
  {
   "cell_type": "code",
   "execution_count": 219,
   "metadata": {},
   "outputs": [
    {
     "data": {
      "text/plain": [
       "17.314093973202016"
      ]
     },
     "execution_count": 219,
     "metadata": {},
     "output_type": "execute_result"
    }
   ],
   "source": [
    "sum_sq = np.sum(np.square(k - score_matrix[:,3])) \n",
    "sum_sq"
   ]
  },
  {
   "cell_type": "code",
   "execution_count": 220,
   "metadata": {},
   "outputs": [
    {
     "data": {
      "text/plain": [
       "14.490476646770654"
      ]
     },
     "execution_count": 220,
     "metadata": {},
     "output_type": "execute_result"
    }
   ],
   "source": [
    "sum_sq = np.sum(np.square(l - score_matrix[:,3])) \n",
    "sum_sq"
   ]
  },
  {
   "cell_type": "code",
   "execution_count": null,
   "metadata": {},
   "outputs": [],
   "source": []
  }
 ],
 "metadata": {
  "kernelspec": {
   "display_name": "Python 3",
   "language": "python",
   "name": "python3"
  },
  "language_info": {
   "codemirror_mode": {
    "name": "ipython",
    "version": 3
   },
   "file_extension": ".py",
   "mimetype": "text/x-python",
   "name": "python",
   "nbconvert_exporter": "python",
   "pygments_lexer": "ipython3",
   "version": "3.8.5"
  }
 },
 "nbformat": 4,
 "nbformat_minor": 4
}
