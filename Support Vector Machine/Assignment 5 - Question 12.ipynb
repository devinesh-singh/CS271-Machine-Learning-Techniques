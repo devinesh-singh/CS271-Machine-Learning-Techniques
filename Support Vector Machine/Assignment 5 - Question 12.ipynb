{
 "cells": [
  {
   "cell_type": "code",
   "execution_count": 1,
   "metadata": {},
   "outputs": [],
   "source": [
    "# references: \n",
    "# CS156 Lecture 6/Assignment 2 and 3\n",
    "# https://www.datacamp.com/community/tutorials/svm-classification-scikit-learn-python"
   ]
  },
  {
   "cell_type": "code",
   "execution_count": 2,
   "metadata": {},
   "outputs": [],
   "source": [
    "# Libraries\n",
    "import numpy as np\n",
    "import matplotlib.pyplot as plt\n",
    "import pandas as pd\n",
    "import statsmodels.api as sm\n",
    "\n",
    "from sklearn import svm\n",
    "from sklearn.metrics import confusion_matrix, accuracy_score\n",
    "from sklearn.feature_selection import RFE\n",
    "from sklearn.datasets import load_digits"
   ]
  },
  {
   "cell_type": "code",
   "execution_count": 10,
   "metadata": {},
   "outputs": [
    {
     "data": {
      "text/html": [
       "<div>\n",
       "<style scoped>\n",
       "    .dataframe tbody tr th:only-of-type {\n",
       "        vertical-align: middle;\n",
       "    }\n",
       "\n",
       "    .dataframe tbody tr th {\n",
       "        vertical-align: top;\n",
       "    }\n",
       "\n",
       "    .dataframe thead th {\n",
       "        text-align: right;\n",
       "    }\n",
       "</style>\n",
       "<table border=\"1\" class=\"dataframe\">\n",
       "  <thead>\n",
       "    <tr style=\"text-align: right;\">\n",
       "      <th></th>\n",
       "      <th>HMM</th>\n",
       "      <th>OGS</th>\n",
       "      <th>SSD</th>\n",
       "      <th>Classification</th>\n",
       "    </tr>\n",
       "  </thead>\n",
       "  <tbody>\n",
       "    <tr>\n",
       "      <th>0</th>\n",
       "      <td>-2.5502</td>\n",
       "      <td>0.458</td>\n",
       "      <td>0.3097</td>\n",
       "      <td>0</td>\n",
       "    </tr>\n",
       "    <tr>\n",
       "      <th>1</th>\n",
       "      <td>-2.4916</td>\n",
       "      <td>0.398</td>\n",
       "      <td>0.8671</td>\n",
       "      <td>0</td>\n",
       "    </tr>\n",
       "    <tr>\n",
       "      <th>2</th>\n",
       "      <td>-2.4591</td>\n",
       "      <td>0.381</td>\n",
       "      <td>0.2878</td>\n",
       "      <td>0</td>\n",
       "    </tr>\n",
       "    <tr>\n",
       "      <th>3</th>\n",
       "      <td>-2.3937</td>\n",
       "      <td>0.387</td>\n",
       "      <td>0.3369</td>\n",
       "      <td>0</td>\n",
       "    </tr>\n",
       "    <tr>\n",
       "      <th>4</th>\n",
       "      <td>-2.5805</td>\n",
       "      <td>0.412</td>\n",
       "      <td>0.3344</td>\n",
       "      <td>0</td>\n",
       "    </tr>\n",
       "    <tr>\n",
       "      <th>5</th>\n",
       "      <td>-2.4426</td>\n",
       "      <td>0.944</td>\n",
       "      <td>0.2908</td>\n",
       "      <td>0</td>\n",
       "    </tr>\n",
       "    <tr>\n",
       "      <th>6</th>\n",
       "      <td>-2.5148</td>\n",
       "      <td>0.989</td>\n",
       "      <td>0.2814</td>\n",
       "      <td>0</td>\n",
       "    </tr>\n",
       "    <tr>\n",
       "      <th>7</th>\n",
       "      <td>-2.4417</td>\n",
       "      <td>0.402</td>\n",
       "      <td>0.3266</td>\n",
       "      <td>0</td>\n",
       "    </tr>\n",
       "    <tr>\n",
       "      <th>8</th>\n",
       "      <td>-2.4508</td>\n",
       "      <td>0.490</td>\n",
       "      <td>0.3223</td>\n",
       "      <td>0</td>\n",
       "    </tr>\n",
       "    <tr>\n",
       "      <th>9</th>\n",
       "      <td>-12.4561</td>\n",
       "      <td>0.479</td>\n",
       "      <td>0.7914</td>\n",
       "      <td>0</td>\n",
       "    </tr>\n",
       "    <tr>\n",
       "      <th>10</th>\n",
       "      <td>-2.5332</td>\n",
       "      <td>0.491</td>\n",
       "      <td>0.4302</td>\n",
       "      <td>0</td>\n",
       "    </tr>\n",
       "    <tr>\n",
       "      <th>11</th>\n",
       "      <td>-2.4849</td>\n",
       "      <td>0.488</td>\n",
       "      <td>0.3293</td>\n",
       "      <td>0</td>\n",
       "    </tr>\n",
       "    <tr>\n",
       "      <th>12</th>\n",
       "      <td>-2.6171</td>\n",
       "      <td>0.455</td>\n",
       "      <td>0.8409</td>\n",
       "      <td>0</td>\n",
       "    </tr>\n",
       "    <tr>\n",
       "      <th>13</th>\n",
       "      <td>-2.5150</td>\n",
       "      <td>0.432</td>\n",
       "      <td>0.3612</td>\n",
       "      <td>0</td>\n",
       "    </tr>\n",
       "    <tr>\n",
       "      <th>14</th>\n",
       "      <td>-14.4404</td>\n",
       "      <td>0.408</td>\n",
       "      <td>0.2755</td>\n",
       "      <td>0</td>\n",
       "    </tr>\n",
       "    <tr>\n",
       "      <th>15</th>\n",
       "      <td>-2.5892</td>\n",
       "      <td>0.425</td>\n",
       "      <td>0.3998</td>\n",
       "      <td>0</td>\n",
       "    </tr>\n",
       "    <tr>\n",
       "      <th>16</th>\n",
       "      <td>-2.4532</td>\n",
       "      <td>0.421</td>\n",
       "      <td>0.3486</td>\n",
       "      <td>0</td>\n",
       "    </tr>\n",
       "    <tr>\n",
       "      <th>17</th>\n",
       "      <td>-2.4831</td>\n",
       "      <td>1.397</td>\n",
       "      <td>0.3550</td>\n",
       "      <td>0</td>\n",
       "    </tr>\n",
       "    <tr>\n",
       "      <th>18</th>\n",
       "      <td>-2.5505</td>\n",
       "      <td>0.368</td>\n",
       "      <td>0.3432</td>\n",
       "      <td>0</td>\n",
       "    </tr>\n",
       "    <tr>\n",
       "      <th>19</th>\n",
       "      <td>-2.4479</td>\n",
       "      <td>0.426</td>\n",
       "      <td>0.3346</td>\n",
       "      <td>0</td>\n",
       "    </tr>\n",
       "    <tr>\n",
       "      <th>20</th>\n",
       "      <td>-20.1718</td>\n",
       "      <td>0.930</td>\n",
       "      <td>0.6909</td>\n",
       "      <td>1</td>\n",
       "    </tr>\n",
       "    <tr>\n",
       "      <th>21</th>\n",
       "      <td>-13.8231</td>\n",
       "      <td>0.854</td>\n",
       "      <td>0.7998</td>\n",
       "      <td>1</td>\n",
       "    </tr>\n",
       "    <tr>\n",
       "      <th>22</th>\n",
       "      <td>-12.2302</td>\n",
       "      <td>0.928</td>\n",
       "      <td>0.7324</td>\n",
       "      <td>1</td>\n",
       "    </tr>\n",
       "    <tr>\n",
       "      <th>23</th>\n",
       "      <td>-23.7316</td>\n",
       "      <td>0.924</td>\n",
       "      <td>0.7543</td>\n",
       "      <td>1</td>\n",
       "    </tr>\n",
       "    <tr>\n",
       "      <th>24</th>\n",
       "      <td>-9.4449</td>\n",
       "      <td>0.801</td>\n",
       "      <td>0.6843</td>\n",
       "      <td>1</td>\n",
       "    </tr>\n",
       "    <tr>\n",
       "      <th>25</th>\n",
       "      <td>-33.5896</td>\n",
       "      <td>0.917</td>\n",
       "      <td>0.7021</td>\n",
       "      <td>1</td>\n",
       "    </tr>\n",
       "    <tr>\n",
       "      <th>26</th>\n",
       "      <td>-148.4577</td>\n",
       "      <td>0.908</td>\n",
       "      <td>0.8879</td>\n",
       "      <td>1</td>\n",
       "    </tr>\n",
       "    <tr>\n",
       "      <th>27</th>\n",
       "      <td>-11.9680</td>\n",
       "      <td>0.916</td>\n",
       "      <td>0.7166</td>\n",
       "      <td>1</td>\n",
       "    </tr>\n",
       "    <tr>\n",
       "      <th>28</th>\n",
       "      <td>-8.0129</td>\n",
       "      <td>0.930</td>\n",
       "      <td>0.6830</td>\n",
       "      <td>1</td>\n",
       "    </tr>\n",
       "    <tr>\n",
       "      <th>29</th>\n",
       "      <td>-14.7196</td>\n",
       "      <td>0.979</td>\n",
       "      <td>0.7142</td>\n",
       "      <td>1</td>\n",
       "    </tr>\n",
       "    <tr>\n",
       "      <th>30</th>\n",
       "      <td>-12.9691</td>\n",
       "      <td>0.927</td>\n",
       "      <td>0.6771</td>\n",
       "      <td>1</td>\n",
       "    </tr>\n",
       "    <tr>\n",
       "      <th>31</th>\n",
       "      <td>-35.6650</td>\n",
       "      <td>0.882</td>\n",
       "      <td>0.6901</td>\n",
       "      <td>1</td>\n",
       "    </tr>\n",
       "    <tr>\n",
       "      <th>32</th>\n",
       "      <td>-14.8911</td>\n",
       "      <td>0.972</td>\n",
       "      <td>0.8415</td>\n",
       "      <td>1</td>\n",
       "    </tr>\n",
       "    <tr>\n",
       "      <th>33</th>\n",
       "      <td>-33.0356</td>\n",
       "      <td>0.865</td>\n",
       "      <td>0.7811</td>\n",
       "      <td>1</td>\n",
       "    </tr>\n",
       "    <tr>\n",
       "      <th>34</th>\n",
       "      <td>-14.0974</td>\n",
       "      <td>0.827</td>\n",
       "      <td>0.6921</td>\n",
       "      <td>1</td>\n",
       "    </tr>\n",
       "    <tr>\n",
       "      <th>35</th>\n",
       "      <td>-12.8733</td>\n",
       "      <td>0.953</td>\n",
       "      <td>0.7454</td>\n",
       "      <td>1</td>\n",
       "    </tr>\n",
       "    <tr>\n",
       "      <th>36</th>\n",
       "      <td>-16.8113</td>\n",
       "      <td>0.870</td>\n",
       "      <td>0.6873</td>\n",
       "      <td>1</td>\n",
       "    </tr>\n",
       "    <tr>\n",
       "      <th>37</th>\n",
       "      <td>-30.8435</td>\n",
       "      <td>0.915</td>\n",
       "      <td>0.8512</td>\n",
       "      <td>1</td>\n",
       "    </tr>\n",
       "    <tr>\n",
       "      <th>38</th>\n",
       "      <td>-9.0773</td>\n",
       "      <td>0.938</td>\n",
       "      <td>0.7999</td>\n",
       "      <td>1</td>\n",
       "    </tr>\n",
       "    <tr>\n",
       "      <th>39</th>\n",
       "      <td>-22.3555</td>\n",
       "      <td>0.848</td>\n",
       "      <td>0.7783</td>\n",
       "      <td>1</td>\n",
       "    </tr>\n",
       "  </tbody>\n",
       "</table>\n",
       "</div>"
      ],
      "text/plain": [
       "         HMM    OGS     SSD  Classification\n",
       "0    -2.5502  0.458  0.3097               0\n",
       "1    -2.4916  0.398  0.8671               0\n",
       "2    -2.4591  0.381  0.2878               0\n",
       "3    -2.3937  0.387  0.3369               0\n",
       "4    -2.5805  0.412  0.3344               0\n",
       "5    -2.4426  0.944  0.2908               0\n",
       "6    -2.5148  0.989  0.2814               0\n",
       "7    -2.4417  0.402  0.3266               0\n",
       "8    -2.4508  0.490  0.3223               0\n",
       "9   -12.4561  0.479  0.7914               0\n",
       "10   -2.5332  0.491  0.4302               0\n",
       "11   -2.4849  0.488  0.3293               0\n",
       "12   -2.6171  0.455  0.8409               0\n",
       "13   -2.5150  0.432  0.3612               0\n",
       "14  -14.4404  0.408  0.2755               0\n",
       "15   -2.5892  0.425  0.3998               0\n",
       "16   -2.4532  0.421  0.3486               0\n",
       "17   -2.4831  1.397  0.3550               0\n",
       "18   -2.5505  0.368  0.3432               0\n",
       "19   -2.4479  0.426  0.3346               0\n",
       "20  -20.1718  0.930  0.6909               1\n",
       "21  -13.8231  0.854  0.7998               1\n",
       "22  -12.2302  0.928  0.7324               1\n",
       "23  -23.7316  0.924  0.7543               1\n",
       "24   -9.4449  0.801  0.6843               1\n",
       "25  -33.5896  0.917  0.7021               1\n",
       "26 -148.4577  0.908  0.8879               1\n",
       "27  -11.9680  0.916  0.7166               1\n",
       "28   -8.0129  0.930  0.6830               1\n",
       "29  -14.7196  0.979  0.7142               1\n",
       "30  -12.9691  0.927  0.6771               1\n",
       "31  -35.6650  0.882  0.6901               1\n",
       "32  -14.8911  0.972  0.8415               1\n",
       "33  -33.0356  0.865  0.7811               1\n",
       "34  -14.0974  0.827  0.6921               1\n",
       "35  -12.8733  0.953  0.7454               1\n",
       "36  -16.8113  0.870  0.6873               1\n",
       "37  -30.8435  0.915  0.8512               1\n",
       "38   -9.0773  0.938  0.7999               1\n",
       "39  -22.3555  0.848  0.7783               1"
      ]
     },
     "execution_count": 10,
     "metadata": {},
     "output_type": "execute_result"
    }
   ],
   "source": [
    "# read the benign/malware spreadsheet (test and train)\n",
    "train = pd.read_csv('malwareBenignScores_train.csv')\n",
    "train2 = pd.read_csv('malwareBenignScores_train2.csv')\n",
    "train"
   ]
  },
  {
   "cell_type": "code",
   "execution_count": 4,
   "metadata": {},
   "outputs": [
    {
     "data": {
      "text/plain": [
       "array([0, 0, 0, 0, 0, 0, 0, 0, 0, 0, 0, 0, 0, 0, 0, 0, 0, 0, 0, 0, 1, 1,\n",
       "       1, 1, 1, 1, 1, 1, 1, 1, 1, 1, 1, 1, 1, 1, 1, 1, 1, 1])"
      ]
     },
     "execution_count": 4,
     "metadata": {},
     "output_type": "execute_result"
    }
   ],
   "source": [
    "# extract the labels from the datasets\n",
    "y_labels = np.array(train['Classification'])\n",
    "y_labels"
   ]
  },
  {
   "cell_type": "code",
   "execution_count": 5,
   "metadata": {},
   "outputs": [],
   "source": [
    "# convert the datasets into arrays\n",
    "train = np.array(train2)"
   ]
  },
  {
   "cell_type": "code",
   "execution_count": 6,
   "metadata": {},
   "outputs": [
    {
     "data": {
      "text/plain": [
       "SVC(kernel='linear')"
      ]
     },
     "execution_count": 6,
     "metadata": {},
     "output_type": "execute_result"
    }
   ],
   "source": [
    "# train an svm\n",
    "classifier = svm.SVC(kernel='linear')\n",
    "classifier.fit(train, y_labels)"
   ]
  },
  {
   "cell_type": "code",
   "execution_count": 7,
   "metadata": {},
   "outputs": [
    {
     "data": {
      "text/plain": [
       "array([[-0.19688023,  0.53494025,  0.70487142]])"
      ]
     },
     "execution_count": 7,
     "metadata": {},
     "output_type": "execute_result"
    }
   ],
   "source": [
    "classifier.coef_"
   ]
  },
  {
   "cell_type": "code",
   "execution_count": 8,
   "metadata": {},
   "outputs": [
    {
     "data": {
      "text/plain": [
       "RFE(estimator=SVC(kernel='linear'), n_features_to_select=2)"
      ]
     },
     "execution_count": 8,
     "metadata": {},
     "output_type": "execute_result"
    }
   ],
   "source": [
    "classifier = svm.SVC(kernel=\"linear\")\n",
    "rfe = RFE(estimator=classifier, n_features_to_select=2, step=1)\n",
    "rfe.fit(train2, y_labels)"
   ]
  },
  {
   "cell_type": "code",
   "execution_count": 9,
   "metadata": {},
   "outputs": [
    {
     "ename": "NameError",
     "evalue": "name 'digits' is not defined",
     "output_type": "error",
     "traceback": [
      "\u001b[0;31m---------------------------------------------------------------------------\u001b[0m",
      "\u001b[0;31mNameError\u001b[0m                                 Traceback (most recent call last)",
      "\u001b[0;32m<ipython-input-9-26f83cb8239e>\u001b[0m in \u001b[0;36m<module>\u001b[0;34m\u001b[0m\n\u001b[0;32m----> 1\u001b[0;31m \u001b[0mranking\u001b[0m \u001b[0;34m=\u001b[0m \u001b[0mrfe\u001b[0m\u001b[0;34m.\u001b[0m\u001b[0mranking_\u001b[0m\u001b[0;34m.\u001b[0m\u001b[0mreshape\u001b[0m\u001b[0;34m(\u001b[0m\u001b[0mdigits\u001b[0m\u001b[0;34m.\u001b[0m\u001b[0mimages\u001b[0m\u001b[0;34m[\u001b[0m\u001b[0;36m0\u001b[0m\u001b[0;34m]\u001b[0m\u001b[0;34m.\u001b[0m\u001b[0mshape\u001b[0m\u001b[0;34m)\u001b[0m\u001b[0;34m\u001b[0m\u001b[0;34m\u001b[0m\u001b[0m\n\u001b[0m",
      "\u001b[0;31mNameError\u001b[0m: name 'digits' is not defined"
     ]
    }
   ],
   "source": [
    "ranking = rfe.ranking_.reshape(digits.images[0].shape)"
   ]
  },
  {
   "cell_type": "code",
   "execution_count": null,
   "metadata": {},
   "outputs": [],
   "source": [
    "rfe.ranking_"
   ]
  },
  {
   "cell_type": "code",
   "execution_count": null,
   "metadata": {},
   "outputs": [],
   "source": [
    "train = train2[:,:-2]"
   ]
  },
  {
   "cell_type": "code",
   "execution_count": null,
   "metadata": {},
   "outputs": [],
   "source": [
    "svc = svm.SVC(kernel=\"linear\")\n",
    "rfe = RFE(estimator=svc, n_features_to_select=1, step=1)\n",
    "rfe.fit(train, y_labels)"
   ]
  },
  {
   "cell_type": "code",
   "execution_count": null,
   "metadata": {},
   "outputs": [],
   "source": [
    "rfe.ranking_"
   ]
  },
  {
   "cell_type": "code",
   "execution_count": null,
   "metadata": {},
   "outputs": [],
   "source": [
    "classifier.support_"
   ]
  },
  {
   "cell_type": "code",
   "execution_count": null,
   "metadata": {},
   "outputs": [],
   "source": [
    "classifier.n_support_"
   ]
  },
  {
   "cell_type": "code",
   "execution_count": null,
   "metadata": {},
   "outputs": [],
   "source": [
    "np.abs(classifier.dual_coef_)"
   ]
  },
  {
   "cell_type": "code",
   "execution_count": null,
   "metadata": {},
   "outputs": [],
   "source": []
  },
  {
   "cell_type": "code",
   "execution_count": null,
   "metadata": {},
   "outputs": [],
   "source": []
  },
  {
   "cell_type": "code",
   "execution_count": null,
   "metadata": {},
   "outputs": [],
   "source": []
  }
 ],
 "metadata": {
  "kernelspec": {
   "display_name": "Python 3",
   "language": "python",
   "name": "python3"
  },
  "language_info": {
   "codemirror_mode": {
    "name": "ipython",
    "version": 3
   },
   "file_extension": ".py",
   "mimetype": "text/x-python",
   "name": "python",
   "nbconvert_exporter": "python",
   "pygments_lexer": "ipython3",
   "version": "3.8.5"
  }
 },
 "nbformat": 4,
 "nbformat_minor": 4
}
