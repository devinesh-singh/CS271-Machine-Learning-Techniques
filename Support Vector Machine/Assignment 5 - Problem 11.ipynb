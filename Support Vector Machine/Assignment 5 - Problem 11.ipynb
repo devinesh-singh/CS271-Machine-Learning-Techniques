{
 "cells": [
  {
   "cell_type": "code",
   "execution_count": 3,
   "metadata": {},
   "outputs": [],
   "source": [
    "# references: \n",
    "# CS156 Lecture 6/Assignment 2 and 3\n",
    "# https://www.datacamp.com/community/tutorials/svm-classification-scikit-learn-python"
   ]
  },
  {
   "cell_type": "code",
   "execution_count": 4,
   "metadata": {},
   "outputs": [],
   "source": [
    "# Libraries\n",
    "import numpy as np\n",
    "import matplotlib.pyplot as plt\n",
    "import pandas as pd\n",
    "import statsmodels.api as sm\n",
    "\n",
    "from sklearn import svm\n",
    "from sklearn.metrics import confusion_matrix, accuracy_score"
   ]
  },
  {
   "cell_type": "code",
   "execution_count": 5,
   "metadata": {},
   "outputs": [],
   "source": [
    "# read the benign/malware spreadsheet (test and train)\n",
    "train = pd.read_csv('malwareBenignScores_train.csv')\n",
    "test = pd.read_csv('malwareBenignScores_test.csv')"
   ]
  },
  {
   "cell_type": "code",
   "execution_count": 6,
   "metadata": {},
   "outputs": [],
   "source": [
    "# extract the labels from the datasets\n",
    "y_labels = np.array(train['Classification'])"
   ]
  },
  {
   "cell_type": "code",
   "execution_count": 7,
   "metadata": {},
   "outputs": [],
   "source": [
    "# convert the datasets into arrays\n",
    "train = np.array(train)\n",
    "test = np.array(test)"
   ]
  },
  {
   "cell_type": "code",
   "execution_count": 20,
   "metadata": {},
   "outputs": [
    {
     "name": "stdout",
     "output_type": "stream",
     "text": [
      "C = 1, Gamma = 2, Accuracy Score: 0.975\n",
      "C = 1, Gamma = 3, Accuracy Score: 0.95\n",
      "C = 1, Gamma = 4, Accuracy Score: 0.95\n",
      "C = 1, Gamma = 5, Accuracy Score: 0.925\n",
      "C = 2, Gamma = 2, Accuracy Score: 0.975\n",
      "C = 2, Gamma = 3, Accuracy Score: 0.975\n",
      "C = 2, Gamma = 4, Accuracy Score: 0.975\n",
      "C = 2, Gamma = 5, Accuracy Score: 0.975\n",
      "C = 3, Gamma = 2, Accuracy Score: 0.975\n",
      "C = 3, Gamma = 3, Accuracy Score: 0.975\n",
      "C = 3, Gamma = 4, Accuracy Score: 0.975\n",
      "C = 3, Gamma = 5, Accuracy Score: 0.975\n",
      "C = 4, Gamma = 2, Accuracy Score: 0.975\n",
      "C = 4, Gamma = 3, Accuracy Score: 0.975\n",
      "C = 4, Gamma = 4, Accuracy Score: 0.975\n",
      "C = 4, Gamma = 5, Accuracy Score: 0.975\n"
     ]
    }
   ],
   "source": [
    "C = {1, 2, 3, 4}\n",
    "sigma = {2, 3, 4, 5}\n",
    "for item in C:\n",
    "    for shape in sigma:\n",
    "        classifier = svm.SVC(kernel ='rbf', C = item, gamma = shape)\n",
    "        classifier.fit(train, y_labels)\n",
    "        print(\"C = \" + str(item) + \", Gamma = \" + str(shape) + \", Accuracy Score: \" + str(accuracy_score(y_labels, classifier.predict(test))))"
   ]
  }
 ],
 "metadata": {
  "kernelspec": {
   "display_name": "Python 3",
   "language": "python",
   "name": "python3"
  },
  "language_info": {
   "codemirror_mode": {
    "name": "ipython",
    "version": 3
   },
   "file_extension": ".py",
   "mimetype": "text/x-python",
   "name": "python",
   "nbconvert_exporter": "python",
   "pygments_lexer": "ipython3",
   "version": "3.8.5"
  }
 },
 "nbformat": 4,
 "nbformat_minor": 4
}
